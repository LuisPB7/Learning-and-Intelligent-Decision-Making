{
 "cells": [
  {
   "cell_type": "markdown",
   "metadata": {},
   "source": [
    "# Learning and Decision Making"
   ]
  },
  {
   "cell_type": "markdown",
   "metadata": {},
   "source": [
    "## Laboratory 2: Markov chains\n",
    "\n",
    "In the end of the lab, you should submit all code/answers written in the tasks marked as \"Activity n. XXX\", together with the corresponding outputs and any replies to specific questions posed to the e-mail <adi.tecnico@gmail.com>. Make sure that the subject is of the form [&lt;group n.&gt;] LAB &lt;lab n.&gt;.\n",
    "\n",
    "### 1. Modeling\n",
    "\n",
    "Consider once again the simplified Monopoly game described in the Homework and for which you wrote a Markov chain model:\n",
    "\n",
    "<img src=\"monopoly.png\" width=\"300px\">\n",
    "\n",
    "Recall that your chain should describe a single player, where: \n",
    "\n",
    "* The player rolls a single die in each play; \n",
    "* The jail does not prevent the player from continuing to play. In other words, when landing on the “GO TO JAIL” cell, the player jumps back to the “JAIL” cell, but resumes play immediately."
   ]
  },
  {
   "cell_type": "markdown",
   "metadata": {},
   "source": [
    "---\n",
    "\n",
    "#### Activity 1.        \n",
    "\n",
    "Implement your Markov chain model in Python. In particular,\n",
    "\n",
    "* Create a list with all the states;\n",
    "* Define a `numpy` array with the corresponding transition probabilities.\n",
    "\n",
    "The order for the states used in the transition probability matrix should match that in the list of states. \n",
    "\n",
    "**Note 1**: Don't forget to import numpy.\n",
    "\n",
    "**Note 2**: Make sure to print the result in the end.\n",
    "\n",
    "---"
   ]
  },
  {
   "cell_type": "code",
   "execution_count": 1,
   "metadata": {
    "collapsed": false
   },
   "outputs": [
    {
     "name": "stdout",
     "output_type": "stream",
     "text": [
      "[[ 0.          0.16666667  0.16666667  0.16666667  0.16666667  0.16666667\n",
      "   0.16666667  0.        ]\n",
      " [ 0.          0.          0.16666667  0.16666667  0.16666667  0.16666667\n",
      "   0.16666667  0.16666667]\n",
      " [ 0.16666667  0.          0.          0.16666667  0.16666667  0.16666667\n",
      "   0.16666667  0.16666667]\n",
      " [ 0.16666667  0.16666667  0.          0.          0.16666667  0.16666667\n",
      "   0.16666667  0.16666667]\n",
      " [ 0.16666667  0.16666667  0.16666667  0.          0.          0.16666667\n",
      "   0.16666667  0.16666667]\n",
      " [ 0.16666667  0.16666667  0.16666667  0.16666667  0.          0.\n",
      "   0.16666667  0.16666667]\n",
      " [ 0.          0.          1.          0.          0.          0.          0.\n",
      "   0.        ]\n",
      " [ 0.16666667  0.16666667  0.16666667  0.16666667  0.16666667  0.16666667\n",
      "   0.          0.        ]]\n"
     ]
    }
   ],
   "source": [
    "import numpy as np\n",
    "\n",
    "states= [\"COLLECT $200\", \"VERMONT AVENUE\", \"JAIL\", \"VIRGINIA AVENUE\", \"FREE PARKING\", \"MARVIN GARDENS\", \"GO TO JAIL\", \"PENNSYLVANIA AVENUE\"]\n",
    "p = np.array([[0,1/6, 1/6, 1/6, 1/6,1/6,1/6,0], [0,0,1/6,1/6,1/6,1/6,1/6,1/6], [1/6,0,0,1/6,1/6,1/6,1/6,1/6], [1/6,1/6,0,0,1/6,1/6,1/6,1/6], [1/6,1/6,1/6,0,0,1/6,1/6,1/6], [1/6,1/6,1/6,1/6,0,0,1/6,1/6], [0,0,1,0,0,0,0,0], [1/6,1/6,1/6,1/6,1/6,1/6,0,0]])\n",
    "print(p)"
   ]
  },
  {
   "cell_type": "markdown",
   "metadata": {},
   "source": [
    "---\n",
    "\n",
    "#### Activity 2.\n",
    "\n",
    "Compute the probability of the following trajectories:\n",
    "\n",
    "* \"COLLECT \\$200\" - \"VERMONT AVENUE\" - \"GO TO JAIL\" - \"JAIL\"\n",
    "* \"COLLECT \\$200\" - \"GO TO JAIL\" - \"JAIL\" - \"COLLECT \\$200\"\n",
    "* \"COLLECT \\$200\" - \"PENNSYLVANIA AVENUE\" - \"COLLECT \\$200\"\n",
    "\n",
    "**Note:** Make sure to print the result in the end.\n",
    "\n",
    "---"
   ]
  },
  {
   "cell_type": "code",
   "execution_count": 2,
   "metadata": {
    "collapsed": false
   },
   "outputs": [
    {
     "name": "stdout",
     "output_type": "stream",
     "text": [
      "COLLECT $200 - VERMONT AVENUE - GO TO JAIL - JAIL with probability 0.0277777777778\n",
      "COLLECT $200 - GO TO JAIL - JAIL - COLLECT $200 with probability 0.0277777777778\n",
      "COLLECT $200 - PENNSYLVANIA AVENUE - COLLECT $200 with probability 0.0\n"
     ]
    }
   ],
   "source": [
    "indexCollect = states.index(\"COLLECT $200\")\n",
    "indexVermont = states.index(\"VERMONT AVENUE\")\n",
    "indexGTJail = states.index(\"GO TO JAIL\")\n",
    "indexJail = states.index(\"JAIL\")\n",
    "indexPenn = states.index(\"PENNSYLVANIA AVENUE\")\n",
    "\n",
    "p1 = p[indexCollect][indexVermont] * p[indexVermont][indexGTJail] * p[indexGTJail][indexJail]\n",
    "print(\"COLLECT $200 - VERMONT AVENUE - GO TO JAIL - JAIL with probability\",p1)\n",
    "\n",
    "p2 = p[indexCollect][indexGTJail] * p[indexGTJail][indexJail] * p[indexJail][indexCollect] \n",
    "print(\"COLLECT $200 - GO TO JAIL - JAIL - COLLECT $200 with probability\",p2)\n",
    "\n",
    "p3 = p[indexCollect][indexPenn] * p[indexPenn][indexCollect]\n",
    "print(\"COLLECT $200 - PENNSYLVANIA AVENUE - COLLECT $200 with probability\",p3)"
   ]
  },
  {
   "cell_type": "markdown",
   "metadata": {},
   "source": [
    "### 2. Stability"
   ]
  },
  {
   "cell_type": "markdown",
   "metadata": {},
   "source": [
    "---\n",
    "\n",
    "#### Activity 3.\n",
    "\n",
    "Justify whether the chain implemented in Activity #1 is:\n",
    "\n",
    "* Irreducible\n",
    "* Aperiodic\n",
    "* Ergodic\n",
    "\n",
    "---"
   ]
  },
  {
   "cell_type": "markdown",
   "metadata": {},
   "source": [
    "-> The chain is irreducible because any state y can be reached from any other state x, which means that there's a positive probability of visiting y after visiting x.\n",
    "\n",
    "-> The chain is aperiodic because every state has a period of 1, since gcd(2,3,....) = 1.\n",
    "\n",
    "-> The chain is ergodic, since it's irreducible, aperiodic and therefore posseses a stationary distribution, eventually reaching it."
   ]
  },
  {
   "cell_type": "markdown",
   "metadata": {},
   "source": [
    "---\n",
    "\n",
    "#### Activity 4\n",
    "\n",
    "Compute the stationary distribution for the chain.\n",
    "\n",
    "**Note:** The stationary distribution is a *left* eigenvector of the transition probability matrix associated to the eigenvalue 1. As such, you may find useful the numpy function `numpy.linalg.eig`. Also, recall that the stationary distribution is *a distribution*.\n",
    "\n",
    "---"
   ]
  },
  {
   "cell_type": "code",
   "execution_count": 3,
   "metadata": {
    "collapsed": false
   },
   "outputs": [
    {
     "name": "stdout",
     "output_type": "stream",
     "text": [
      "[ 0.11131135-0.j  0.09350154-0.j  0.21817025-0.j  0.10940316-0.j\n",
      "  0.10685890-0.j  0.12466872-0.j  0.12731899-0.j  0.10876709-0.j]\n"
     ]
    }
   ],
   "source": [
    "v = np.linalg.eig(p.T)[1][:,0] # We need to transpose the probabilities matrix, since numpy.linalg.eig returns the right eigenvectors\n",
    "print(v/sum(v)) # We normalize the vector\n",
    "\n",
    "# A not formal but quick way of checking that this is the stationary distribution would be calculating the matrix power of P\n",
    "# with a big enough number. We would then see that indeed, P stabilizes in the calculated distribution\n",
    "# np.linalg.matrix_power(p, 1000)"
   ]
  },
  {
   "cell_type": "markdown",
   "metadata": {},
   "source": [
    "### 3. Simulation\n",
    "\n",
    "You are now going to *simulate* the Markov chain that you defined in Question #1."
   ]
  },
  {
   "cell_type": "markdown",
   "metadata": {},
   "source": [
    "---\n",
    "\n",
    "#### Activity 5\n",
    "\n",
    "Generate a 10,000-step long trajectory of the chain defined in Activity #1. \n",
    "\n",
    "---"
   ]
  },
  {
   "cell_type": "code",
   "execution_count": 4,
   "metadata": {
    "collapsed": false
   },
   "outputs": [
    {
     "name": "stdout",
     "output_type": "stream",
     "text": [
      "{'COLLECT $200': 1107, 'VERMONT AVENUE': 960, 'JAIL': 2175, 'VIRGINIA AVENUE': 1090, 'FREE PARKING': 1082, 'MARVIN GARDENS': 1250, 'GO TO JAIL': 1252, 'PENNSYLVANIA AVENUE': 1084}\n"
     ]
    }
   ],
   "source": [
    "currentState = \"COLLECT $200\"\n",
    "frequencies = {}\n",
    "for s in states:\n",
    "    frequencies[s] = 0\n",
    "\n",
    "for i in range(10000):\n",
    "    frequencies[currentState]+=1\n",
    "    prob_array = p[states.index(currentState)]\n",
    "    currentState = np.random.choice(states, p=prob_array)\n",
    "    i+=1\n",
    "\n",
    "print(frequencies)"
   ]
  },
  {
   "cell_type": "markdown",
   "metadata": {},
   "source": [
    "---\n",
    "\n",
    "#### Activity 6\n",
    "\n",
    "Draw a histogram of the trajectory generated in Activity #5. Compare the relative frequencies with the result of Activity #4.\n",
    "\n",
    "---"
   ]
  },
  {
   "cell_type": "code",
   "execution_count": 5,
   "metadata": {
    "collapsed": false
   },
   "outputs": [
    {
     "data": {
      "image/png": "[encoded data removed]",
      "text/plain": [
       "<matplotlib.figure.Figure at 0x1c0d5e05e10>"
      ]
     },
     "metadata": {},
     "output_type": "display_data"
    }
   ],
   "source": [
    "import matplotlib.pyplot as plt\n",
    "\n",
    "plt.bar(range(len(frequencies)), frequencies.values(), align='center')\n",
    "plt.xticks(range(len(frequencies)), frequencies.keys(), rotation=90)\n",
    "\n",
    "plt.xlabel('States');\n",
    "plt.ylabel('Frequency');\n",
    "\n",
    "plt.title('Frequencies Histogram');\n",
    "\n",
    "plt.show()"
   ]
  },
  {
   "cell_type": "markdown",
   "metadata": {},
   "source": [
    "When we calculate the relative frequencies, dividing the absolute frequencies by 10000, for each state we get values very close to the chain's stationary distribution, which makes sense since 10000 is already a \"big\" number and can be used to show stable behavior of the Markov Chain."
   ]
  }
 ],
 "metadata": {
  "kernelspec": {
   "display_name": "Python 3",
   "language": "python",
   "name": "python3"
  },
  "language_info": {
   "codemirror_mode": {
    "name": "ipython",
    "version": 3
   },
   "file_extension": ".py",
   "mimetype": "text/x-python",
   "name": "python",
   "nbconvert_exporter": "python",
   "pygments_lexer": "ipython3",
   "version": "3.6.0"
  }
 },
 "nbformat": 4,
 "nbformat_minor": 0
}
