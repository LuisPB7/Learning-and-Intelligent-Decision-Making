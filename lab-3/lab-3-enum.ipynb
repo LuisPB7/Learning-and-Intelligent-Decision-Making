{
 "cells": [
  {
   "cell_type": "markdown",
   "metadata": {},
   "source": [
    "# Learning and Decision Making"
   ]
  },
  {
   "cell_type": "markdown",
   "metadata": {},
   "source": [
    "## Laboratory 3: Markov decision problems\n",
    "\n",
    "In the end of the lab, you should submit all code/answers written in the tasks marked as \"Activity n. XXX\", together with the corresponding outputs and any replies to specific questions posed to the e-mail <adi.tecnico@gmail.com>. Make sure that the subject is of the form [&lt;group n.&gt;] LAB &lt;lab n.&gt;.\n",
    "\n",
    "### 1. Modeling\n",
    "\n",
    "Consider once again the predator-prey domain described in the Homework and which you described as a Markov decision process.\n",
    "\n",
    "<img src=\"toroidal-world.png\" width=\"400px\">\n",
    "\n",
    "Recall that:\n",
    "\n",
    "* toroidal world \"wraps around\", i.e., an individual exiting through any of the four sides of the grid reenters on the opposite side (see figure above).\n",
    "\n",
    "* At each time step, the hare selects uniformly at random one of the four directions (up, down, left, and right) and moves to the adjacent cell in that direction with a probability 0.4. With a probability 0.6 it remains in the same cell. \n",
    "\n",
    "* The wolf, on the other hand, can select at each time step one of five actions---up (_U_), down (_D_), left (_L_) and right (_R_) or stay (_S_). If it selects action _S_, it remains in the same cell with probability 1.0. Otherwise, the other 4 actions succeed in moving the wolf to the adjacent cell in the corresponding direction with a probability 0.8 and fail with a probability 0.2. \n",
    "\n",
    "* The goal of the wolf is to catch the hare."
   ]
  },
  {
   "cell_type": "markdown",
   "metadata": {},
   "source": [
    "---\n",
    "\n",
    "#### Activity 1.        \n",
    "\n",
    "Implement your Markov decision process in Python. In particular,\n",
    "\n",
    "* Create a list with all the states;\n",
    "* Create a list with all the actions;\n",
    "* For each action, define a `numpy` array with the corresponding transition probabilities;\n",
    "* Define a `numpy`array with the costs\n",
    "\n",
    "The order for the states and actions used in the transition probability and cost matrices should match that in the lists of states and actions. \n",
    "\n",
    "**Note 1**: Don't forget to import `numpy`.\n",
    "\n",
    "**Note 2**: You can define the transition probability matrices for each of the two individuals and then build the combined transition probability matrices using the `numpy.kron` function.\n",
    "\n",
    "---"
   ]
  },
  {
   "cell_type": "code",
   "execution_count": 34,
   "metadata": {
    "collapsed": false,
    "scrolled": false
   },
   "outputs": [],
   "source": [
    "import numpy as np\n",
    "\n",
    "X = [(1,1), (1,2), (1,3), (1,4), (2,1), (2,2), (2,3), (2,4), (3,1), (3,2), (3,3), (3,4), (4,1), (4,2), (4,3), (4,4)]\n",
    "\n",
    "A = ['S', 'U', 'D', 'L', 'R']\n",
    "\n",
    "P_rabbit = np.array([[0.6, 0.2, 0.2, 0],[0.2, 0.6, 0, 0.2], [0.2, 0, 0.6, 0.2], [0,0.2,0.2,0.6]])\n",
    "\n",
    "P_wolf_stay = np.array([[1,0,0,0],[0,1,0,0], [0,0,1,0], [0,0,0,1]])\n",
    "\n",
    "P_wolf_up = np.array([[0.2, 0, 0.8, 0],[0, 0.2, 0, 0.8], [0.8, 0, 0.2, 0], [0,0.8, 0, 0.2]])\n",
    "\n",
    "P_wolf_down = P_wolf_up\n",
    "\n",
    "P_wolf_left = np.array([[0.2, 0.8, 0, 0], [0.8, 0.2, 0, 0], [0,0,0.2, 0.8], [0,0,0.8, 0.2]])\n",
    "\n",
    "P_wolf_right = P_wolf_left\n",
    "\n",
    "P_stay = np.kron(P_wolf_stay, P_rabbit)\n",
    "\n",
    "P_up = np.kron(P_wolf_up, P_rabbit)\n",
    "\n",
    "P_down = np.kron(P_wolf_down, P_rabbit)\n",
    "\n",
    "P_left = np.kron(P_wolf_left, P_rabbit)\n",
    "\n",
    "P_right = np.kron(P_wolf_right, P_rabbit)\n",
    "\n",
    "# Cost Logic: the wolf is penalized for every step that the prey is “free”\n",
    "C = np.array([[0,0,0,0,0],[1,1,1,1,1],[1,1,1,1,1],[1,1,1,1,1], [1,1,1,1,1], [0,0,0,0,0],[1,1,1,1,1],[1,1,1,1,1],[1,1,1,1,1],[1,1,1,1,1], [0,0,0,0,0], [1,1,1,1,1],[1,1,1,1,1],[1,1,1,1,1],[1,1,1,1,1], [0,0,0,0,0]])\n"
   ]
  },
  {
   "cell_type": "markdown",
   "metadata": {},
   "source": [
    "### 2. Prediction\n",
    "\n",
    "You are now going to evaluate a given policy, computing the corresponding cost-to-go."
   ]
  },
  {
   "cell_type": "markdown",
   "metadata": {
    "raw_mimetype": "text/latex"
   },
   "source": [
    "---\n",
    "\n",
    "#### Activity 2.\n",
    "\n",
    "Describe the policy that, in each state $(w, h)$, always moves the wolf to the cell closest to the hare. If multiple such cells exist, the wolf should select randomly between the two.\n",
    "\n",
    "For example, suppose that the wolf is in cell 1 and the hare in cell 4 (figure above, left). The wolf should then select randomly between the actions _U_, _D_ (which move the wolf to cell 3), _L_ and _R_ (which move the wolf to cell 2). Conversely, if the wolf is in cell 1 and the hare in cell 3 (figure above, right), the wolf should select randomly between the two actions _U_ and _D_ (which move the wolf to cell 3).\n",
    "\n",
    "**Note:** The policy should be described as a vector with as many rows as there are states and as many columns as there are actions, where the entry _xa_ has the probability of selecting action _a_ in state _x_.\n",
    "\n",
    "---"
   ]
  },
  {
   "cell_type": "code",
   "execution_count": 35,
   "metadata": {
    "collapsed": false
   },
   "outputs": [
    {
     "name": "stdout",
     "output_type": "stream",
     "text": [
      "[[ 1.    0.    0.    0.    0.  ]\n",
      " [ 0.    0.    0.    0.5   0.5 ]\n",
      " [ 0.    0.5   0.5   0.    0.  ]\n",
      " [ 0.    0.25  0.25  0.25  0.25]\n",
      " [ 0.    0.    0.    0.5   0.5 ]\n",
      " [ 1.    0.    0.    0.    0.  ]\n",
      " [ 0.    0.25  0.25  0.25  0.25]\n",
      " [ 0.    0.5   0.5   0.    0.  ]\n",
      " [ 0.    0.5   0.5   0.    0.  ]\n",
      " [ 0.    0.25  0.25  0.25  0.25]\n",
      " [ 1.    0.    0.    0.    0.  ]\n",
      " [ 0.    0.    0.    0.5   0.5 ]\n",
      " [ 0.    0.25  0.25  0.25  0.25]\n",
      " [ 0.    0.5   0.5   0.    0.  ]\n",
      " [ 0.    0.    0.    0.5   0.5 ]\n",
      " [ 1.    0.    0.    0.    0.  ]]\n"
     ]
    }
   ],
   "source": [
    "ups_downs = {1:3, 3:1, 2:4, 4:2}\n",
    "lefts_rights = {1:2, 2:1, 3:4, 4:3}\n",
    "diagonals = {1:4, 4:1, 3:2, 2:3}\n",
    "\n",
    "#Function that given a state, returns the probability vector of choosing each action according to the described policy\n",
    "def policy_probability(state):\n",
    "    if state[0] == state[1]: #If they're on the same patch, we stay\n",
    "        return [1,0,0,0,0]\n",
    "    elif state[1] == diagonals[state[0]]: #If the rabbit is on the diagonal, we can choose either Up, Down, Left or Right\n",
    "        return [0,1/4, 1/4, 1/4, 1/4]\n",
    "    elif state[1] == ups_downs[state[0]]: #If the rabbit is above or below, we can choose either Up or Down\n",
    "        return [0,1/2, 1/2, 0, 0]\n",
    "    else: #If the rabbit is left or right, we can choose either Left or Right\n",
    "        return [0,0, 0, 1/2, 1/2]\n",
    "\n",
    "policy = []\n",
    "for state in X:\n",
    "    policy += [policy_probability(state)]\n",
    "\n",
    "policy = np.array(policy)\n",
    "print(policy)\n"
   ]
  },
  {
   "cell_type": "markdown",
   "metadata": {},
   "source": [
    "---\n",
    "\n",
    "#### Activity 3.\n",
    "\n",
    "Compute the cost-to-go function $J^\\pi$ associated with the policy from Activity 2. Use $\\gamma=0.99$.\n",
    "\n",
    "---"
   ]
  },
  {
   "cell_type": "code",
   "execution_count": 36,
   "metadata": {
    "collapsed": false
   },
   "outputs": [
    {
     "name": "stdout",
     "output_type": "stream",
     "text": [
      "[ 43.88841893  44.99671233  44.99671233  45.51480752  44.99671233\n",
      "  43.88841893  45.51480752  44.99671233  44.99671233  45.51480752\n",
      "  43.88841893  44.99671233  45.51480752  44.99671233  44.99671233\n",
      "  43.88841893]\n"
     ]
    }
   ],
   "source": [
    "#Dictionary that maps the action's index with its probability matrix\n",
    "action_matrixes = {0:P_stay, 1:P_up, 2:P_down, 3:P_left, 4:P_right}\n",
    "\n",
    "gamma = 0.99\n",
    "\n",
    "#Expected cost at each state\n",
    "def cost_policy(state): \n",
    "    stateIndex = X.index(state)\n",
    "    soma = 0\n",
    "    for action in range(len(A)):\n",
    "        soma = soma + policy[stateIndex][action] * C[stateIndex][action]\n",
    "    return soma\n",
    "\n",
    "#Transition probabiliy\n",
    "def probabilities_policy(currentState, nextState):\n",
    "    soma = 0\n",
    "    currentStateIndex = X.index(currentState)\n",
    "    nextStateIndex = X.index(nextState)\n",
    "    for action in range(len(A)):\n",
    "        soma = soma + policy[currentStateIndex][action] * action_matrixes[action][currentStateIndex][nextStateIndex]\n",
    "    return soma\n",
    "\n",
    "#Transition probabilities in matrix form\n",
    "probabilities_policy_matrix = []\n",
    "for currentState in X:\n",
    "    row = []\n",
    "    for nextState in X:\n",
    "        row += [probabilities_policy(currentState, nextState)]\n",
    "    probabilities_policy_matrix += [row]\n",
    "probabilities_policy_matrix = np.array(probabilities_policy_matrix)\n",
    "\n",
    "#Costs for each state in matrix form\n",
    "cost_policy_matrix = []\n",
    "for state in X:\n",
    "    cost_policy_matrix += [cost_policy(state)]\n",
    "cost_policy_matrix = np.array(cost_policy_matrix)\n",
    "\n",
    "J_policy = np.dot(np.linalg.inv((np.eye(len(X)) - gamma * probabilities_policy_matrix)), cost_policy_matrix)\n",
    "print(J_policy)"
   ]
  },
  {
   "cell_type": "markdown",
   "metadata": {},
   "source": [
    "### 3. Control\n",
    "\n",
    "In this section you are going to compare value and policy iteration, both in terms of time and number of iterations."
   ]
  },
  {
   "cell_type": "markdown",
   "metadata": {},
   "source": [
    "---\n",
    "\n",
    "#### Activity 4\n",
    "\n",
    "Show that the policy in Activity 3 is optimal: use value iteration to compute $J^*$ and show that $J^*=J^\\pi$. Track the time and the number of iterations taken to compute $J^*$.\n",
    "\n",
    "**Note 1:** Stop the algorithm when the error between iterations is smaller than $10^{-8}$.\n",
    "\n",
    "**Note 2:** You may find useful the function ``time()`` from the module ``time``.\n",
    "\n",
    "---"
   ]
  },
  {
   "cell_type": "code",
   "execution_count": 37,
   "metadata": {
    "collapsed": false,
    "scrolled": false
   },
   "outputs": [
    {
     "name": "stdout",
     "output_type": "stream",
     "text": [
      "Finished with 1891 iterations and in 0.08011555671691895 seconds\n",
      "[[ 43.88841868]\n",
      " [ 44.99671209]\n",
      " [ 44.99671209]\n",
      " [ 45.51480727]\n",
      " [ 44.99671209]\n",
      " [ 43.88841868]\n",
      " [ 45.51480727]\n",
      " [ 44.99671209]\n",
      " [ 44.99671209]\n",
      " [ 45.51480727]\n",
      " [ 43.88841868]\n",
      " [ 44.99671209]\n",
      " [ 45.51480727]\n",
      " [ 44.99671209]\n",
      " [ 44.99671209]\n",
      " [ 43.88841868]]\n"
     ]
    }
   ],
   "source": [
    "import time\n",
    "J = np.zeros((len(X),1))\n",
    "err = 1\n",
    "i = 0\n",
    "start_time = time.time()\n",
    "while err > 1e-8:\n",
    "    Q_stay = C[:,0:1] + gamma * P_stay.dot(J)\n",
    "    Q_up = C[:,1:2] + gamma * P_up.dot(J)\n",
    "    Q_down = C[:,2:3] + gamma * P_down.dot(J)\n",
    "    Q_left = C[:,3:4] + gamma * P_left.dot(J)\n",
    "    Q_right = C[:,4:5] + gamma * P_right.dot(J)\n",
    "    J_new = np.min([Q_up, Q_down,Q_left,Q_right,Q_stay], axis=0)\n",
    "    err = np.linalg.norm(J_new-J)\n",
    "    i += 1\n",
    "    J = J_new\n",
    "finish_time = time.time() - start_time  \n",
    "print(\"Finished with \" + str(i)+\" iterations and in \" + str(finish_time) +\" seconds\")\n",
    "print(J) #As J_policy == J, then our policy is optimal!"
   ]
  },
  {
   "cell_type": "markdown",
   "metadata": {},
   "source": [
    "---\n",
    "\n",
    "#### Activity 5\n",
    "\n",
    "Compute once again the optimal policy now using policy iteration. Track the time and number of iterations taken and compare to those of Activity 4.\n",
    "\n",
    "**Note:** If you find that numerical errors affect your computations (especially when comparing two values/arrays) you may use the `numpy` function `isclose` with adequately set absolute and relative tolerance parameters (e.g., $10^{-8}$).\n",
    "\n",
    "---"
   ]
  },
  {
   "cell_type": "code",
   "execution_count": 38,
   "metadata": {
    "collapsed": false,
    "scrolled": false
   },
   "outputs": [
    {
     "name": "stdout",
     "output_type": "stream",
     "text": [
      "Finished with 1 iterations and in 0.0009996891021728516 seconds\n",
      "[[ 1.    0.    0.    0.    0.  ]\n",
      " [ 0.    0.    0.    0.5   0.5 ]\n",
      " [ 0.    0.5   0.5   0.    0.  ]\n",
      " [ 0.    0.25  0.25  0.25  0.25]\n",
      " [ 0.    0.    0.    0.5   0.5 ]\n",
      " [ 1.    0.    0.    0.    0.  ]\n",
      " [ 0.    0.25  0.25  0.25  0.25]\n",
      " [ 0.    0.5   0.5   0.    0.  ]\n",
      " [ 0.    0.5   0.5   0.    0.  ]\n",
      " [ 0.    0.25  0.25  0.25  0.25]\n",
      " [ 1.    0.    0.    0.    0.  ]\n",
      " [ 0.    0.    0.    0.5   0.5 ]\n",
      " [ 0.    0.25  0.25  0.25  0.25]\n",
      " [ 0.    0.5   0.5   0.    0.  ]\n",
      " [ 0.    0.    0.    0.5   0.5 ]\n",
      " [ 1.    0.    0.    0.    0.  ]]\n"
     ]
    }
   ],
   "source": [
    "i = 0\n",
    "pi = policy #Our initial policy\n",
    "quit = False\n",
    "start_time = time.time()\n",
    "while not quit:\n",
    "    cpi = np.diag(pi[:,0]).dot(C[:,0]) + np.diag(pi[:,1]).dot(C[:,1]) + np.diag(pi[:,2]).dot(C[:,2]) + np.diag(pi[:,3]).dot(C[:,3]) + np.diag(pi[:,4]).dot(C[:,4])\n",
    "    Ppi = np.diag(pi[:,0]).dot(P_stay) + np.diag(pi[:,1]).dot(P_up) + np.diag(pi[:,2]).dot(P_down) + np.diag(pi[:,3]).dot(P_left) + np.diag(pi[:,4]).dot(P_right)\n",
    "    J = np.linalg.inv(np.eye(16) - gamma * Ppi).dot(cpi)\n",
    "    J_fix = []\n",
    "    for el in J:\n",
    "        J_fix += [[el]]\n",
    "    J = np.array(J_fix)\n",
    "    Q_stay = C[:,0:1] + gamma * P_stay.dot(J)\n",
    "    Q_up = C[:,1:2] + gamma * P_up.dot(J)\n",
    "    Q_down = C[:,2:3] + gamma * P_down.dot(J)\n",
    "    Q_left = C[:,3:4] + gamma * P_left.dot(J)\n",
    "    Q_right = C[:,4:5] + gamma * P_right.dot(J)\n",
    "    pinew = np.zeros((16,5))\n",
    "    pinew[:, 0, None] = np.isclose(Q_stay, np.min([Q_stay,Q_up, Q_down, Q_left, Q_right], axis=0), atol=1e-8, rtol=1e-8).astype(int)\n",
    "    pinew[:, 1, None] = np.isclose(Q_up, np.min([Q_stay,Q_up, Q_down, Q_left, Q_right], axis=0), atol=1e-8, rtol=1e-8).astype(int)\n",
    "    pinew[:, 2, None] = np.isclose(Q_down, np.min([Q_stay,Q_up, Q_down, Q_left, Q_right], axis=0), atol=1e-8, rtol=1e-8).astype(int)\n",
    "    pinew[:, 3, None] = np.isclose(Q_left, np.min([Q_stay,Q_up, Q_down, Q_left, Q_right], axis=0), atol=1e-8, rtol=1e-8).astype(int)\n",
    "    pinew[:, 4, None] = np.isclose(Q_right, np.min([Q_stay,Q_up, Q_down, Q_left, Q_right], axis=0), atol=1e-8, rtol=1e-8).astype(int)\n",
    "    pinew = pinew / np.sum(pinew, axis=1, keepdims=True)\n",
    "    quit = (pi == pinew).all()\n",
    "    pi = pinew\n",
    "    i += 1\n",
    "finish_time = time.time() - start_time  \n",
    "print(\"Finished with \" + str(i)+\" iterations and in \" + str(finish_time) +\" seconds\")\n",
    "print(pi)"
   ]
  },
  {
   "cell_type": "markdown",
   "metadata": {},
   "source": [
    "### 4. Simulation\n",
    "\n",
    "Finally, in this section you will check whether the theoretical computations of the cost-to-go actually correspond to the cost incurred by an agent following a policy."
   ]
  },
  {
   "cell_type": "markdown",
   "metadata": {},
   "source": [
    "---\n",
    "\n",
    "#### Activity 6\n",
    "\n",
    "Starting in each of the two states $x$ in the initial figure, \n",
    "\n",
    "* Generate **100** trajectories of 10,000 steps each, following the optimal policy for the MDP. \n",
    "* For each trajectory, compute the accumulated (discounted) cost. \n",
    "* Compute the average cost over the 100 trajectories.\n",
    "* Compare the resulting value with that computed in Activity 4 for the two states. \n",
    "\n",
    "** Note:** The simulation may take a bit of time, don't despair ☺️.\n",
    "\n",
    "---"
   ]
  },
  {
   "cell_type": "code",
   "execution_count": 40,
   "metadata": {
    "collapsed": false
   },
   "outputs": [
    {
     "name": "stdout",
     "output_type": "stream",
     "text": [
      "Starting at (1, 4) we get a discounted cost of 43.3461972497 which is a 2.16861027122 difference from the theoretical value\n",
      "Starting at (1, 3) we get a discounted cost of 40.8721036945 which is a 4.12460863979 difference from the theoretical value\n"
     ]
    }
   ],
   "source": [
    "for initial_state in [(1,4),(1,3)]:\n",
    "    for trajectory in range(100):\n",
    "        soma = 0\n",
    "        for step in range(10000):\n",
    "            soma = soma + gamma**step * cost_policy(state)\n",
    "            state = X[np.random.choice(range(len(X)), p=probabilities_policy_matrix[X.index(state)])]\n",
    "    print(\"Starting at \" + str(initial_state)+\" we get a discounted cost of \" + str(soma) + \" which is a \" + str(abs(soma - J[X.index(initial_state)][0])) + \" difference from the theoretical value\")"
   ]
  },
  {
   "cell_type": "code",
   "execution_count": null,
   "metadata": {
    "collapsed": true
   },
   "outputs": [],
   "source": []
  }
 ],
 "metadata": {
  "celltoolbar": "Raw Cell Format",
  "kernelspec": {
   "display_name": "Python 3",
   "language": "python",
   "name": "python3"
  },
  "language_info": {
   "codemirror_mode": {
    "name": "ipython",
    "version": 3
   },
   "file_extension": ".py",
   "mimetype": "text/x-python",
   "name": "python",
   "nbconvert_exporter": "python",
   "pygments_lexer": "ipython3",
   "version": "3.6.0"
  }
 },
 "nbformat": 4,
 "nbformat_minor": 0
}
